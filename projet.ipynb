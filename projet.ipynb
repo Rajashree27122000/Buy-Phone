{
 "cells": [
  {
   "cell_type": "markdown",
   "id": "e49977ad-7543-42af-a124-2056f3a43f5b",
   "metadata": {},
   "source": [
    "# restaurant "
   ]
  },
  {
   "cell_type": "code",
   "execution_count": 9,
   "id": "edc2260b-0a56-4a54-9fdc-f34f22166f89",
   "metadata": {},
   "outputs": [
    {
     "name": "stdout",
     "output_type": "stream",
     "text": [
      "{'tea': 10, 'pizza': 100, 'coffee': 50, 'burger': 30, 'salad': 80}\n",
      "Hello well come to restrant\n"
     ]
    },
    {
     "name": "stdin",
     "output_type": "stream",
     "text": [
      "do you want to order(yes/no):  yes\n"
     ]
    },
    {
     "name": "stdout",
     "output_type": "stream",
     "text": [
      "ok tell me what you want to eat\n",
      "here is the menu\n",
      " tea:10\n",
      " pizza:100\n",
      " coffee:50\n",
      " burger':30\n",
      " salad:80\n"
     ]
    },
    {
     "name": "stdin",
     "output_type": "stream",
     "text": [
      "enter the name of the item you want to order:  tea\n"
     ]
    },
    {
     "name": "stdout",
     "output_type": "stream",
     "text": [
      "your item has been added to your order\n"
     ]
    },
    {
     "name": "stdin",
     "output_type": "stream",
     "text": [
      "do you want another item? (yes/No) yes\n",
      "enter the name of the item:  pizza\n"
     ]
    },
    {
     "name": "stdout",
     "output_type": "stream",
     "text": [
      "item pizza has been added\n",
      "the total amount of items to you  pay is 100\n"
     ]
    }
   ],
   "source": [
    "\n",
    "#define the menu of restaurant\n",
    "menu={\n",
    "       'tea':10,\n",
    "      'pizza':100,\n",
    "      'coffee':50,\n",
    "      'burger':30,\n",
    "      'salad':80\n",
    "}\n",
    "def manager():\n",
    "    print(\"Hello well come to restrant\")\n",
    "   \n",
    "    while True:\n",
    "        option=input('do you want to order(yes/no): ')\n",
    "        if option=='yes':\n",
    "            print('ok tell me what you want to eat')\n",
    "            print('here is the menu')\n",
    "            print(\" tea:10\\n pizza:100\\n coffee:50\\n burger':30\\n salad:80\")\n",
    "            break\n",
    "        elif option=='no':\n",
    "            print('ok no problem')\n",
    "            pass\n",
    "        else:\n",
    "            print('please choose yes or no')\n",
    "            break\n",
    "            \n",
    "            \n",
    "            order_total=0\n",
    "            \n",
    "\n",
    "def main():\n",
    "    while True:\n",
    "        item_1=input('enter the name of the item you want to order: ')\n",
    "        if item_1 in menu:\n",
    "            order_total =+menu[item_1]#0 +50\n",
    "            print(\"your item has been added to your order\")\n",
    "            \n",
    "            another_order= input(\"do you want another item? (yes/No)\")\n",
    "            if another_order =='yes':\n",
    "                item_2= input('enter the name of the item: ')\n",
    "                if item_2 in menu:\n",
    "                    order_total =+menu[item_2]\n",
    "                    print(f\"item {item_2} has been added\")\n",
    "                  \n",
    "                elif item_2!=menu:\n",
    "                    print(\"this item is not available! \")\n",
    "\n",
    "            elif item_1!=menu:\n",
    "                print('the item is not here  please select the another')\n",
    "            \n",
    "            print(f\"the total amount of items to you  pay is {order_total}\")\n",
    "            break\n",
    "        elif item_1!=menu:\n",
    "            print('the item is not here  please select the another')\n",
    "        else:\n",
    "            print('thanks for comming')\n",
    "            break\n",
    "            \n",
    "            \n",
    "print(menu)\n",
    "manager()\n",
    "main()\n"
   ]
  },
  {
   "cell_type": "markdown",
   "id": "996905c5-e105-465f-9441-55225cb34109",
   "metadata": {},
   "source": [
    "# phone book"
   ]
  },
  {
   "cell_type": "code",
   "execution_count": 19,
   "id": "9218e351-1952-457d-84be-4670dcd29935",
   "metadata": {},
   "outputs": [
    {
     "name": "stdout",
     "output_type": "stream",
     "text": [
      "1.add new contac\n",
      "2.modify the phone number of contact\n",
      "3.delete a friends contact\n",
      "4.display all the entrises\n",
      "5.check if a freind is present\n",
      "6.display in sorted order of the names\n",
      "7.exit\n"
     ]
    },
    {
     "name": "stdin",
     "output_type": "stream",
     "text": [
      "enter your choice(1/7):  9\n"
     ]
    },
    {
     "name": "stdout",
     "output_type": "stream",
     "text": [
      "innvalid choice.please try again\n",
      "\n"
     ]
    }
   ],
   "source": [
    "#phonebook project\n",
    "#create a empty dic\n",
    "dic={}\n",
    "while True:\n",
    "    print(\"1.add new contac\")\n",
    "    print(\"2.modify the phone number of contact\")\n",
    "    print(\"3.delete a friends contact\")\n",
    "    print(\"4.display all the entrises\")\n",
    "    print(\"5.check if a freind is present\")\n",
    "    print(\"6.display in sorted order of the names\")\n",
    "    print(\"7.exit\")\n",
    "    inp=int(input('enter your choice(1/7): '))\n",
    "    break\n",
    "    \n",
    "def new_contact():\n",
    "    if inp==1:\n",
    "        name=input('enter the name: ')\n",
    "        phonenum=input('enter the num:')\n",
    "        dic[name]=phonenum\n",
    "        print(\"contact added \\n\\n\")\n",
    "    elif inp==2:\n",
    "        name=input('enter the name to modify:')\n",
    "        if name in dic:\n",
    "            phonenum=input('enter the num:')\n",
    "            dic[name]=phonenum\n",
    "            print(\"contact modified\\n\\n\")\n",
    "        else:\n",
    "            print('the name is not present in the list')\n",
    "    elif inp==3:\n",
    "        name=input('enter the name to del:')\n",
    "        if name in dic:\n",
    "            del dic[name]\n",
    "            print(\"contact deleted\\n\\n\")\n",
    "        else:\n",
    "            print(\"name is not in the list\")\n",
    "    elif inp==4:\n",
    "        print(\"all the entries in the contact\")\n",
    "    elif inp==5:\n",
    "        name=input(\"enter the name: \")\n",
    "        if name in dic:\n",
    "            print(\"the Name\",name,\"is present in the list \\n\\n\")\n",
    "        else:\n",
    "            print(\"the Name\",name,\"is not present in the list \\n\\n\")\n",
    "    elif inp==6:\n",
    "         print(\"Name\\t\\t\\tcontact number\")\n",
    "         for i in sorted(dic.keys()):\n",
    "             print(i,\"\\t\\t\\t\",dic[i])\n",
    "             print(\"\\n\\n\")\n",
    "    elif inp==7:\n",
    "        print('exit')\n",
    "      \n",
    "    else:\n",
    "        print(\"innvalid choice.please try again\\n\")\n",
    "                         \n",
    "                   \n",
    "        \n",
    "new_contact()\n",
    "dic={'name':'phonenum'}\n",
    "\n",
    "\n"
   ]
  },
  {
   "cell_type": "code",
   "execution_count": 11,
   "id": "ff43ff5b-c9b0-4fea-8a21-3b7300291933",
   "metadata": {},
   "outputs": [
    {
     "name": "stdout",
     "output_type": "stream",
     "text": [
      "1.create new contact\n",
      "2.read the contact\n",
      "3.update the contact\n",
      "4.delete the contact\n"
     ]
    },
    {
     "name": "stdin",
     "output_type": "stream",
     "text": [
      "enter your choice(1/4): 4\n",
      "enter the name: raj\n"
     ]
    },
    {
     "name": "stdout",
     "output_type": "stream",
     "text": [
      "contact is not found\n"
     ]
    }
   ],
   "source": [
    "#create a empty dic to store contacts\n",
    "dic={}\n",
    "#implement  a loop that continuously display menu of option to the user  until they  choose exit\n",
    "while True:\n",
    "    print(\"1.create new contact\")\n",
    "    print(\"2.read the contact\")\n",
    "    print(\"3.update the contact\")\n",
    "    print(\"4.delete the contact\")\n",
    "    user_choice=int(input('enter your choice(1/4):'))\n",
    "    break\n",
    "\n",
    "def phone_book():\n",
    "    if user_choice==1:\n",
    "        name=input('enter the name:')\n",
    "        phone_num=input('enter the num:')\n",
    "        dic[name]=phone_num\n",
    "        print(\"created new contact\\n\\n\")\n",
    "    elif user_choice==2:\n",
    "        name=input('enter the name: ')\n",
    "        if name in dic:\n",
    "            dic[name].readline()\n",
    "            print('read the contact')\n",
    "        else:\n",
    "            print('not in contact')\n",
    "    elif user_choice==3:\n",
    "        name=input('enter the new name: ')\n",
    "        phone_num=input('enter the num:')\n",
    "        dic.update({\"name\":\"phone_num\"})\n",
    "        print('update the contact')\n",
    "    elif user_choice==4:\n",
    "        name=input('enter the name:')\n",
    "        if name in dic:\n",
    "            del dic[name]\n",
    "            print('contact deleted')\n",
    "        else:\n",
    "            print('contact is not found')\n",
    "    else:\n",
    "        print('please enter the currect choice')\n",
    "        \n",
    "        \n",
    "phone_book()\n",
    "dic={'name':'phone_num'}\n",
    "\n",
    "\n"
   ]
  },
  {
   "cell_type": "markdown",
   "id": "2a665cad-e2b1-4397-9381-9374bc664fae",
   "metadata": {},
   "source": [
    "# stuedent grade"
   ]
  },
  {
   "cell_type": "code",
   "execution_count": 1,
   "id": "9e26d3b7-c8d0-48b4-8213-563ab5890f9f",
   "metadata": {},
   "outputs": [
    {
     "name": "stdout",
     "output_type": "stream",
     "text": [
      "\n",
      " student grade  management system(1/5)\n",
      "1.add student\n",
      "2.update student\n",
      "3.delete student\n",
      "4.view all student\n",
      "5.exit\n"
     ]
    },
    {
     "name": "stdin",
     "output_type": "stream",
     "text": [
      "enter your choice: 1\n",
      "enter the name= anu\n",
      "enter the grade= 100\n"
     ]
    },
    {
     "name": "stdout",
     "output_type": "stream",
     "text": [
      "added anu with a 100\n",
      "\n",
      " student grade  management system(1/5)\n",
      "1.add student\n",
      "2.update student\n",
      "3.delete student\n",
      "4.view all student\n",
      "5.exit\n"
     ]
    },
    {
     "name": "stdin",
     "output_type": "stream",
     "text": [
      "enter your choice: 1\n",
      "enter the name= survesh\n",
      "enter the grade= 200\n"
     ]
    },
    {
     "name": "stdout",
     "output_type": "stream",
     "text": [
      "added survesh with a 200\n",
      "\n",
      " student grade  management system(1/5)\n",
      "1.add student\n",
      "2.update student\n",
      "3.delete student\n",
      "4.view all student\n",
      "5.exit\n"
     ]
    },
    {
     "name": "stdin",
     "output_type": "stream",
     "text": [
      "enter your choice: 1\n",
      "enter the name= raj\n",
      "enter the grade= 300\n"
     ]
    },
    {
     "name": "stdout",
     "output_type": "stream",
     "text": [
      "added raj with a 300\n",
      "\n",
      " student grade  management system(1/5)\n",
      "1.add student\n",
      "2.update student\n",
      "3.delete student\n",
      "4.view all student\n",
      "5.exit\n"
     ]
    },
    {
     "name": "stdin",
     "output_type": "stream",
     "text": [
      "enter your choice: 4\n"
     ]
    },
    {
     "name": "stdout",
     "output_type": "stream",
     "text": [
      "anu:100\n",
      "survesh:200\n",
      "raj:300\n",
      "\n",
      " student grade  management system(1/5)\n",
      "1.add student\n",
      "2.update student\n",
      "3.delete student\n",
      "4.view all student\n",
      "5.exit\n"
     ]
    },
    {
     "name": "stdin",
     "output_type": "stream",
     "text": [
      "enter your choice: 2\n",
      "enter the name= raj\n",
      "enter the grade= 400\n"
     ]
    },
    {
     "name": "stdout",
     "output_type": "stream",
     "text": [
      "rajwith a 400\n",
      "\n",
      " student grade  management system(1/5)\n",
      "1.add student\n",
      "2.update student\n",
      "3.delete student\n",
      "4.view all student\n",
      "5.exit\n"
     ]
    },
    {
     "name": "stdin",
     "output_type": "stream",
     "text": [
      "enter your choice: 4\n"
     ]
    },
    {
     "name": "stdout",
     "output_type": "stream",
     "text": [
      "anu:100\n",
      "survesh:200\n",
      "raj:400\n",
      "\n",
      " student grade  management system(1/5)\n",
      "1.add student\n",
      "2.update student\n",
      "3.delete student\n",
      "4.view all student\n",
      "5.exit\n"
     ]
    },
    {
     "name": "stdin",
     "output_type": "stream",
     "text": [
      "enter your choice: 3\n",
      "enter the name= raj\n"
     ]
    },
    {
     "name": "stdout",
     "output_type": "stream",
     "text": [
      "raj has been deleted\n",
      "\n",
      " student grade  management system(1/5)\n",
      "1.add student\n",
      "2.update student\n",
      "3.delete student\n",
      "4.view all student\n",
      "5.exit\n"
     ]
    },
    {
     "name": "stdin",
     "output_type": "stream",
     "text": [
      "enter your choice: 4\n"
     ]
    },
    {
     "name": "stdout",
     "output_type": "stream",
     "text": [
      "anu:100\n",
      "survesh:200\n",
      "\n",
      " student grade  management system(1/5)\n",
      "1.add student\n",
      "2.update student\n",
      "3.delete student\n",
      "4.view all student\n",
      "5.exit\n"
     ]
    },
    {
     "name": "stdin",
     "output_type": "stream",
     "text": [
      "enter your choice: 5\n"
     ]
    },
    {
     "name": "stdout",
     "output_type": "stream",
     "text": [
      "closing the program..\n"
     ]
    }
   ],
   "source": [
    "#intialising dictionary\n",
    "student_grades={}\n",
    "\n",
    "#add a new student\n",
    "def add_student(name,grade):\n",
    "    student_grades[name]=grade\n",
    "    #[saar]=100\n",
    "    print(f\"added {name} with a {grade}\")\n",
    "\n",
    "def update_student(name,grade):\n",
    "    if name in student_grades:\n",
    "        student_grades[name]=grade\n",
    "        print(f\"{name}with a {grade}\")\n",
    "    else:\n",
    "        print(f\"{name} is not found\")\n",
    "\n",
    "def delete_student(name):\n",
    "    if name in student_grades:\n",
    "        del student_grades[name]\n",
    "        print(f\"{name} has been deleted\")\n",
    "    else:\n",
    "        print(f\"{name} is not found\")\n",
    "\n",
    "def display_all_students():\n",
    "    if student_grades:\n",
    "        for name,grade in student_grades.items():\n",
    "            print(f\"{name}:{grade}\")\n",
    "    else:\n",
    "        print(\"no student found\")\n",
    "\n",
    "def main():\n",
    "    while True:\n",
    "        print('\\n student grade  management system(1/5)')\n",
    "        print(\"1.add student\")\n",
    "        print(\"2.update student\")\n",
    "        print(\"3.delete student\")\n",
    "        print(\"4.view all student\")\n",
    "        print(\"5.exit\")\n",
    "        \n",
    "        choice=int(input(\"enter your choice:\"))\n",
    "        if choice==1:\n",
    "            name=input('enter the name=')\n",
    "            grade=int(input('enter the grade='))\n",
    "            add_student(name,grade)\n",
    "        elif choice==2:\n",
    "            name=input('enter the name=')\n",
    "            grade=int(input('enter the grade='))\n",
    "            update_student(name,grade)\n",
    "        elif choice==3:\n",
    "            name=input('enter the name=')\n",
    "            delete_student(name)\n",
    "        elif choice==4:\n",
    "            display_all_students()\n",
    "        elif choice==5:\n",
    "            print('closing the program..')\n",
    "            break\n",
    "        else:\n",
    "            print('invalid choice')\n",
    "\n",
    "\n",
    "            \n",
    "\n",
    "\n",
    "main()        "
   ]
  },
  {
   "cell_type": "markdown",
   "id": "dc5b89db-b623-430b-9636-8dc4cca99265",
   "metadata": {},
   "source": [
    "# phone book"
   ]
  },
  {
   "cell_type": "code",
   "execution_count": 5,
   "id": "059160d3-bfb4-496c-a073-1ea3c0f9e653",
   "metadata": {},
   "outputs": [
    {
     "name": "stdout",
     "output_type": "stream",
     "text": [
      "\n",
      " phone book (1/5)\n",
      "1.add name\n",
      "2.update name\n",
      "3.delete name\n",
      "4.view all name\n",
      "5.exit\n"
     ]
    },
    {
     "name": "stdin",
     "output_type": "stream",
     "text": [
      "enter your choice: 1\n",
      "enter the name= raj\n",
      "enter the number= 989898\n"
     ]
    },
    {
     "name": "stdout",
     "output_type": "stream",
     "text": [
      "added raj with a 989898\n",
      "\n",
      " phone book (1/5)\n",
      "1.add name\n",
      "2.update name\n",
      "3.delete name\n",
      "4.view all name\n",
      "5.exit\n"
     ]
    },
    {
     "name": "stdin",
     "output_type": "stream",
     "text": [
      "enter your choice: 1\n",
      "enter the name= anu\n",
      "enter the number= 787878\n"
     ]
    },
    {
     "name": "stdout",
     "output_type": "stream",
     "text": [
      "added anu with a 787878\n",
      "\n",
      " phone book (1/5)\n",
      "1.add name\n",
      "2.update name\n",
      "3.delete name\n",
      "4.view all name\n",
      "5.exit\n"
     ]
    },
    {
     "name": "stdin",
     "output_type": "stream",
     "text": [
      "enter your choice: 4\n"
     ]
    },
    {
     "name": "stdout",
     "output_type": "stream",
     "text": [
      "raj:989898\n",
      "anu:787878\n",
      "\n",
      " phone book (1/5)\n",
      "1.add name\n",
      "2.update name\n",
      "3.delete name\n",
      "4.view all name\n",
      "5.exit\n"
     ]
    },
    {
     "name": "stdin",
     "output_type": "stream",
     "text": [
      "enter your choice: 2\n",
      "enter the name= raj\n",
      "enter the number= 78787\n"
     ]
    },
    {
     "name": "stdout",
     "output_type": "stream",
     "text": [
      "rajwith a 78787\n",
      "\n",
      " phone book (1/5)\n",
      "1.add name\n",
      "2.update name\n",
      "3.delete name\n",
      "4.view all name\n",
      "5.exit\n"
     ]
    },
    {
     "name": "stdin",
     "output_type": "stream",
     "text": [
      "enter your choice: 4\n"
     ]
    },
    {
     "name": "stdout",
     "output_type": "stream",
     "text": [
      "raj:78787\n",
      "anu:787878\n",
      "\n",
      " phone book (1/5)\n",
      "1.add name\n",
      "2.update name\n",
      "3.delete name\n",
      "4.view all name\n",
      "5.exit\n"
     ]
    },
    {
     "name": "stdin",
     "output_type": "stream",
     "text": [
      "enter your choice: 3\n",
      "enter the name= raj\n"
     ]
    },
    {
     "name": "stdout",
     "output_type": "stream",
     "text": [
      "raj has been deleted\n",
      "\n",
      " phone book (1/5)\n",
      "1.add name\n",
      "2.update name\n",
      "3.delete name\n",
      "4.view all name\n",
      "5.exit\n"
     ]
    },
    {
     "name": "stdin",
     "output_type": "stream",
     "text": [
      "enter your choice: 5\n"
     ]
    },
    {
     "name": "stdout",
     "output_type": "stream",
     "text": [
      "closing the program..\n"
     ]
    }
   ],
   "source": [
    "dic={}\n",
    "\n",
    "def add_phonebook(name,number):\n",
    "    dic[name]=number\n",
    "    print(f\"added {name} with a {number}\")\n",
    "\n",
    "def update_phonebook(name,number):\n",
    "    if name in dic:\n",
    "        dic[name]=number\n",
    "        print(f\"{name}with a {number}\")\n",
    "    else:\n",
    "        print(f\"{name} is not found\")\n",
    "\n",
    "def delete_phonebook(name):\n",
    "    if name in dic:\n",
    "        del dic[name]\n",
    "        print(f\"{name} has been deleted\")\n",
    "    else:\n",
    "        print(f\"{name} is not found\")\n",
    "\n",
    "def display_all_phonebook():\n",
    "    if dic:\n",
    "        for name,number in dic.items():\n",
    "            print(f\"{name}:{number}\")\n",
    "    else:\n",
    "        print(\"no name found\")\n",
    "\n",
    "def main():\n",
    "    while True:\n",
    "        print('\\n phone book (1/5)')\n",
    "        print(\"1.add name\")\n",
    "        print(\"2.update name\")\n",
    "        print(\"3.delete name\")\n",
    "        print(\"4.view all name\")\n",
    "        print(\"5.exit\")\n",
    "        \n",
    "        choice=int(input(\"enter your choice:\"))\n",
    "        if choice==1:\n",
    "            name=input('enter the name=')\n",
    "            number=int(input('enter the number='))\n",
    "            add_phonebook(name,number)\n",
    "        elif choice==2:\n",
    "            name=input('enter the name=')\n",
    "            number=int(input('enter the number='))\n",
    "            update_phonebook(name,number)\n",
    "        elif choice==3:\n",
    "            name=input('enter the name=')\n",
    "            delete_phonebook(name)\n",
    "        elif choice==4:\n",
    "            display_all_phonebook()\n",
    "        elif choice==5:\n",
    "            print('closing the program..')\n",
    "            break\n",
    "        else:\n",
    "            print('invalid choice')\n",
    "\n",
    "\n",
    "            \n",
    "\n",
    "\n",
    "main() \n",
    "    \n",
    "    "
   ]
  },
  {
   "cell_type": "markdown",
   "id": "0b860456-606a-4508-83fe-8069a86426c8",
   "metadata": {},
   "source": [
    "# LOGO COMANDS IN PYTHON"
   ]
  },
  {
   "cell_type": "code",
   "execution_count": null,
   "id": "e2eca511-6385-435b-a9e7-8e2f2eb0d362",
   "metadata": {},
   "outputs": [],
   "source": [
    "#import turtles for graphics\n",
    "import turtle\n",
    "\n",
    "\n",
    "\n",
    "#object\n",
    "pen=turtle.Turtle()\n",
    "\n",
    "#speed of the pen\n",
    "pen.speed(10)\n",
    "\n",
    "#object color\n",
    "pen.color(\"green\")\n",
    "\n",
    "#object width\n",
    "pen.width(10)\n",
    "\n",
    "\n",
    "#code for symbol\n",
    "#backward C\n",
    "for x in range(180):\n",
    "    pen.forward(1)\n",
    "    pen.backward(1)\n",
    "\n",
    "#up\n",
    "pen.right(90)\n",
    "pen.forward(50)\n",
    "\n",
    "#right\n",
    "pen.right(90)\n",
    "pen.forward(130)\n",
    "\n",
    "#down\n",
    "pen.right(90)\n",
    "pen.forward(50)\n",
    "pen.left(90)\n",
    "\n",
    "#forwar C\n",
    "for x in range(180):\n",
    "    pen.backward(1)\n",
    "    pen.right(1)\n",
    "\n",
    "turtle.done()\n",
    "\n",
    "\n"
   ]
  },
  {
   "cell_type": "code",
   "execution_count": null,
   "id": "cda61d00-e9fe-46ee-93df-5394897e76a0",
   "metadata": {},
   "outputs": [],
   "source": []
  },
  {
   "cell_type": "code",
   "execution_count": null,
   "id": "a3a7c688-d505-4ded-84b0-5ba2d1436b02",
   "metadata": {},
   "outputs": [],
   "source": [
    "# importing turtle for graphics \n",
    "import turtle \n",
    "  \n",
    "# Forming the window screen \n",
    "tut = turtle.Screen() \n",
    "  \n",
    "# background color green \n",
    "tut.bgcolor(\"White\") \n",
    "  \n",
    "# object \n",
    "pen = turtle.Turtle() \n",
    "  \n",
    "#speed of pen \n",
    "pen.speed(10) \n",
    "  \n",
    "# object color \n",
    "pen.color(\"Green\") \n",
    "  \n",
    "# object width \n",
    "pen.width(10) \n",
    "tut = turtle.Screen() \n",
    "  \n",
    "  \n",
    "# Code for symbol \n",
    "# backward C \n",
    "for x in range(180): \n",
    "    pen.forward(1) \n",
    "    pen.right(1) \n",
    "  \n",
    "# up \n",
    "pen.right(90) \n",
    "pen.forward(50) \n",
    "  \n",
    "# right \n",
    "pen.right(90) \n",
    "pen.forward(130) \n",
    "  \n",
    "# down \n",
    "pen.right(90) \n",
    "pen.forward(50) \n",
    "pen.left(90) \n",
    "  \n",
    "# forward C \n",
    "for x in range(180): \n",
    "    pen.backward(1) \n",
    "    pen.right(1) \n",
    "  \n",
    "turtle.done() "
   ]
  },
  {
   "cell_type": "markdown",
   "id": "2fc8ea2b-2193-46ca-aa4f-e35478b15677",
   "metadata": {},
   "source": [
    "# \"pig\"  Dice game"
   ]
  },
  {
   "cell_type": "code",
   "execution_count": 1,
   "id": "90e99404-10cb-45e3-83ed-1ac28119ca4a",
   "metadata": {},
   "outputs": [
    {
     "name": "stdout",
     "output_type": "stream",
     "text": [
      "\n",
      "welcome to the pig dice game! \n",
      " In this game,a user and a computer opponent\n",
      "roll  a 6-sides die each round. if the value of the die is  a 1, the player that rolled the 1 loses\n",
      "all of their points.otherwise, the player gets the value of die added to their points.  the first player to reach\n",
      "30 points wins!\n",
      "                \n"
     ]
    },
    {
     "name": "stdin",
     "output_type": "stream",
     "text": [
      "what is your name?:  raj\n",
      " press 'enter' to roll the dieraj!\n",
      " \n"
     ]
    },
    {
     "name": "stdout",
     "output_type": "stream",
     "text": [
      "raj rolls a 3\n",
      "computer rolls a 5\n",
      "\n",
      "####################\n",
      "player score:3\n",
      "compter score:5\n",
      "####################\n",
      "\n"
     ]
    },
    {
     "name": "stdin",
     "output_type": "stream",
     "text": [
      " press 'enter' to roll the dieraj!\n",
      " \n"
     ]
    },
    {
     "name": "stdout",
     "output_type": "stream",
     "text": [
      "raj rolls a 5\n",
      "computer rolls a 6\n",
      "\n",
      "####################\n",
      "player score:8\n",
      "compter score:11\n",
      "####################\n",
      "\n"
     ]
    },
    {
     "name": "stdin",
     "output_type": "stream",
     "text": [
      " press 'enter' to roll the dieraj!\n",
      " \n"
     ]
    },
    {
     "name": "stdout",
     "output_type": "stream",
     "text": [
      "raj rolls a 4\n",
      "computer rolls a 2\n",
      "\n",
      "####################\n",
      "player score:12\n",
      "compter score:13\n",
      "####################\n",
      "\n"
     ]
    },
    {
     "name": "stdin",
     "output_type": "stream",
     "text": [
      " press 'enter' to roll the dieraj!\n",
      " \n"
     ]
    },
    {
     "name": "stdout",
     "output_type": "stream",
     "text": [
      "raj rolls a 3\n",
      "computer rolls a 4\n",
      "\n",
      "####################\n",
      "player score:15\n",
      "compter score:17\n",
      "####################\n",
      "\n"
     ]
    },
    {
     "name": "stdin",
     "output_type": "stream",
     "text": [
      " press 'enter' to roll the dieraj!\n",
      " \n"
     ]
    },
    {
     "name": "stdout",
     "output_type": "stream",
     "text": [
      "raj rolls a 2\n",
      "computer rolls a 5\n",
      "\n",
      "####################\n",
      "player score:17\n",
      "compter score:22\n",
      "####################\n",
      "\n"
     ]
    },
    {
     "name": "stdin",
     "output_type": "stream",
     "text": [
      " press 'enter' to roll the dieraj!\n",
      " \n"
     ]
    },
    {
     "name": "stdout",
     "output_type": "stream",
     "text": [
      "raj rolls a 4\n",
      "computer rolls a 2\n",
      "\n",
      "####################\n",
      "player score:21\n",
      "compter score:24\n",
      "####################\n",
      "\n"
     ]
    },
    {
     "name": "stdin",
     "output_type": "stream",
     "text": [
      " press 'enter' to roll the dieraj!\n",
      " \n"
     ]
    },
    {
     "name": "stdout",
     "output_type": "stream",
     "text": [
      "raj rolls a 4\n",
      "computer rolls a 6\n",
      "\n",
      "####################\n",
      "player score:25\n",
      "compter score:30\n",
      "####################\n",
      "\n",
      "computer wins!\n"
     ]
    }
   ],
   "source": [
    "from random import randint\n",
    "\n",
    "def update_score(score,die_value):\n",
    "    if die_value==1:\n",
    "        return 0\n",
    "    else:\n",
    "        return score+die_value\n",
    "\n",
    "def display_scoreboard(player_score,computer_score):\n",
    "    print()\n",
    "    print(\"#\" *20)\n",
    "    print(f\"player score:{player_score}\")\n",
    "    print(f\"compter score:{computer_score}\")\n",
    "    print(\"#\" *20)\n",
    "    print()\n",
    "player_score=0\n",
    "computer_score=0\n",
    "\n",
    "welcome_message=\"\"\"\n",
    "welcome to the pig dice game! \\n In this game,a user and a computer opponent\n",
    "roll  a 6-sides die each round. if the value of the die is  a 1, the player that rolled the 1 loses\n",
    "all of their points.otherwise, the player gets the value of die added to their points.  the first player to reach\n",
    "30 points wins!\n",
    "                \"\"\"\n",
    "print(welcome_message)\n",
    "username=input('what is your name?: ')\n",
    "\n",
    "while True:\n",
    "    input(f\" press 'enter' to roll the die{username}!\\n\")\n",
    "    player_die_value=randint(1,6)\n",
    "    print(f\"{username} rolls a {player_die_value}\")\n",
    "    \n",
    "    computer_die_value=randint(1,6)\n",
    "    print(f\"computer rolls a {computer_die_value}\")\n",
    "\n",
    "    player_score=update_score(player_score,player_die_value)\n",
    "    computer_score=update_score(computer_score,computer_die_value)\n",
    "    display_scoreboard(player_score,computer_score)\n",
    "    if player_score>=30:\n",
    "        print(f\"{username} wins!\")\n",
    "        break\n",
    "    elif  computer_score>=30:\n",
    "        print(\"computer wins!\")\n",
    "        break\n",
    "\n",
    "    #print(f\"{player_score=}\")\n",
    "    #print(f\"{computer_score=}\")\n",
    "    #break\n",
    "\n"
   ]
  },
  {
   "cell_type": "code",
   "execution_count": null,
   "id": "e861ea8c-b71e-44a9-97ae-24a798f1e928",
   "metadata": {},
   "outputs": [],
   "source": []
  }
 ],
 "metadata": {
  "kernelspec": {
   "display_name": "Python 3 (ipykernel)",
   "language": "python",
   "name": "python3"
  },
  "language_info": {
   "codemirror_mode": {
    "name": "ipython",
    "version": 3
   },
   "file_extension": ".py",
   "mimetype": "text/x-python",
   "name": "python",
   "nbconvert_exporter": "python",
   "pygments_lexer": "ipython3",
   "version": "3.12.7"
  }
 },
 "nbformat": 4,
 "nbformat_minor": 5
}
